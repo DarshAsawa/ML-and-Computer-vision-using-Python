{
 "cells": [
  {
   "cell_type": "code",
   "execution_count": 9,
   "metadata": {},
   "outputs": [],
   "source": [
    "import cv2\n",
    "import numpy as np\n",
    "import math "
   ]
  },
  {
   "cell_type": "code",
   "execution_count": 10,
   "metadata": {},
   "outputs": [],
   "source": [
    "flag = np.zeros(shape=[600,600,3],dtype='uint8')"
   ]
  },
  {
   "cell_type": "code",
   "execution_count": 13,
   "metadata": {},
   "outputs": [],
   "source": [
    "flag[:,:]=(255,255,255)\n",
    "flag[10:200,10:590]=(48, 196, 244)\n",
    "flag[200:400,10:590]=(255,255,255)\n",
    "flag[400:590,10:590]=(0,255,0)\n",
    "cv2.circle(flag,(300,300),99,[255,0,0],2)\n",
    "cv2.circle(flag,(300,300),1,[255,0,0],2)\n",
    "\n",
    "degree = int(2*math.pi)\n",
    "for t in range(0,degree,2):\n",
    "    cos = math.cos(t)\n",
    "    sin = math.sin(t)\n",
    "    x = int(100*cos+300)\n",
    "    y = int(100*sin+300)\n",
    "    cv2.line(flag,(x,y),(600-x,600-y),[255,0,0],2)\n",
    "\n"
   ]
  },
  {
   "cell_type": "code",
   "execution_count": 14,
   "metadata": {},
   "outputs": [
    {
     "data": {
      "text/plain": [
       "True"
      ]
     },
     "execution_count": 14,
     "metadata": {},
     "output_type": "execute_result"
    }
   ],
   "source": [
    "cv2.imshow('INDIAN FLAG',flag)\n",
    "cv2.waitKey()\n",
    "cv2.destroyAllWindows()\n",
    "cv2.imwrite(\"IndianFlag.jpg\",flag)"
   ]
  },
  {
   "cell_type": "code",
   "execution_count": null,
   "metadata": {},
   "outputs": [],
   "source": []
  }
 ],
 "metadata": {
  "kernelspec": {
   "display_name": "Python 3",
   "language": "python",
   "name": "python3"
  },
  "language_info": {
   "codemirror_mode": {
    "name": "ipython",
    "version": 3
   },
   "file_extension": ".py",
   "mimetype": "text/x-python",
   "name": "python",
   "nbconvert_exporter": "python",
   "pygments_lexer": "ipython3",
   "version": "3.7.4"
  }
 },
 "nbformat": 4,
 "nbformat_minor": 2
}
