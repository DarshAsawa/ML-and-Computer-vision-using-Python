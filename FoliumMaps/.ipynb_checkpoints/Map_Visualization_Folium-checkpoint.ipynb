{
 "cells": [
  {
   "cell_type": "code",
   "execution_count": 91,
   "metadata": {},
   "outputs": [],
   "source": [
    "import folium "
   ]
  },
  {
   "cell_type": "code",
   "execution_count": 92,
   "metadata": {},
   "outputs": [],
   "source": [
    "mall = folium.Map(location=[28.4809085,77.0780911],zoom_start = 15,tiles = \"Stamen Toner\")"
   ]
  },
  {
   "cell_type": "code",
   "execution_count": 93,
   "metadata": {},
   "outputs": [
    {
     "data": {
      "text/plain": [
       "<folium.map.Marker at 0x1c8461e15c8>"
      ]
     },
     "execution_count": 93,
     "metadata": {},
     "output_type": "execute_result"
    }
   ],
   "source": [
    "folium.Marker(location= [28.4809085,77.0780911],popup = \"MGF Mall, Gurgaon\").add_to(mall)"
   ]
  },
  {
   "cell_type": "code",
   "execution_count": 94,
   "metadata": {},
   "outputs": [
    {
     "data": {
      "text/html": [
       "<div style=\"width:100%;\"><div style=\"position:relative;width:100%;height:0;padding-bottom:60%;\"><iframe src=\"about:blank\" style=\"position:absolute;width:100%;height:100%;left:0;top:0;border:none !important;\" data-html=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 onload=\"this.contentDocument.open();this.contentDocument.write(atob(this.getAttribute('data-html')));this.contentDocument.close();\" allowfullscreen webkitallowfullscreen mozallowfullscreen></iframe></div></div>"
      ],
      "text/plain": [
       "<folium.folium.Map at 0x1c8461d1a08>"
      ]
     },
     "execution_count": 94,
     "metadata": {},
     "output_type": "execute_result"
    }
   ],
   "source": [
    "mall"
   ]
  },
  {
   "cell_type": "code",
   "execution_count": 95,
   "metadata": {},
   "outputs": [],
   "source": [
    "#using data from csv to mark various malls over MGF Road,Gurgaon... "
   ]
  },
  {
   "cell_type": "code",
   "execution_count": 120,
   "metadata": {},
   "outputs": [],
   "source": [
    "import pandas as pd\n",
    "import folium"
   ]
  },
  {
   "cell_type": "code",
   "execution_count": 121,
   "metadata": {},
   "outputs": [],
   "source": [
    "malls = folium.Map(location=[28.4809085,77.0780911],zoom_start = 14,tiles = \"openstreetmap\")"
   ]
  },
  {
   "cell_type": "code",
   "execution_count": 122,
   "metadata": {},
   "outputs": [],
   "source": [
    "mall_location = pd.read_excel('Coordinates.xlsx')"
   ]
  },
  {
   "cell_type": "code",
   "execution_count": 123,
   "metadata": {},
   "outputs": [
    {
     "data": {
      "text/html": [
       "<div>\n",
       "<style scoped>\n",
       "    .dataframe tbody tr th:only-of-type {\n",
       "        vertical-align: middle;\n",
       "    }\n",
       "\n",
       "    .dataframe tbody tr th {\n",
       "        vertical-align: top;\n",
       "    }\n",
       "\n",
       "    .dataframe thead th {\n",
       "        text-align: right;\n",
       "    }\n",
       "</style>\n",
       "<table border=\"1\" class=\"dataframe\">\n",
       "  <thead>\n",
       "    <tr style=\"text-align: right;\">\n",
       "      <th></th>\n",
       "      <th>PlaceName</th>\n",
       "      <th>Longitude</th>\n",
       "      <th>Latitude</th>\n",
       "    </tr>\n",
       "  </thead>\n",
       "  <tbody>\n",
       "    <tr>\n",
       "      <td>0</td>\n",
       "      <td>MGF Metropolitan Mall</td>\n",
       "      <td>28.480909</td>\n",
       "      <td>77.078091</td>\n",
       "    </tr>\n",
       "    <tr>\n",
       "      <td>1</td>\n",
       "      <td>DT City Center Mall</td>\n",
       "      <td>28.487141</td>\n",
       "      <td>77.090246</td>\n",
       "    </tr>\n",
       "    <tr>\n",
       "      <td>2</td>\n",
       "      <td>City Center Shopping Mall</td>\n",
       "      <td>28.478974</td>\n",
       "      <td>77.078438</td>\n",
       "    </tr>\n",
       "    <tr>\n",
       "      <td>3</td>\n",
       "      <td>MGF Mega Mall</td>\n",
       "      <td>28.479720</td>\n",
       "      <td>77.087174</td>\n",
       "    </tr>\n",
       "    <tr>\n",
       "      <td>4</td>\n",
       "      <td>Sahara Mall</td>\n",
       "      <td>28.479559</td>\n",
       "      <td>77.084566</td>\n",
       "    </tr>\n",
       "  </tbody>\n",
       "</table>\n",
       "</div>"
      ],
      "text/plain": [
       "                   PlaceName  Longitude   Latitude\n",
       "0      MGF Metropolitan Mall  28.480909  77.078091\n",
       "1        DT City Center Mall  28.487141  77.090246\n",
       "2  City Center Shopping Mall  28.478974  77.078438\n",
       "3              MGF Mega Mall  28.479720  77.087174\n",
       "4                Sahara Mall  28.479559  77.084566"
      ]
     },
     "execution_count": 123,
     "metadata": {},
     "output_type": "execute_result"
    }
   ],
   "source": [
    "mall_location"
   ]
  },
  {
   "cell_type": "code",
   "execution_count": 124,
   "metadata": {},
   "outputs": [],
   "source": [
    "cordinates = mall_location[['Longitude','Latitude']].values.tolist()\n"
   ]
  },
  {
   "cell_type": "code",
   "execution_count": 125,
   "metadata": {},
   "outputs": [
    {
     "data": {
      "text/plain": [
       "[[28.4809085, 77.0780911],\n",
       " [28.4871408, 77.0902456],\n",
       " [28.4789745, 77.0784375],\n",
       " [28.4797196, 77.0871736],\n",
       " [28.4795587, 77.0845658]]"
      ]
     },
     "execution_count": 125,
     "metadata": {},
     "output_type": "execute_result"
    }
   ],
   "source": [
    "cordinates"
   ]
  },
  {
   "cell_type": "code",
   "execution_count": 126,
   "metadata": {},
   "outputs": [
    {
     "data": {
      "text/plain": [
       "Index(['PlaceName', 'Longitude', 'Latitude'], dtype='object')"
      ]
     },
     "execution_count": 126,
     "metadata": {},
     "output_type": "execute_result"
    }
   ],
   "source": [
    "mall_location.columns"
   ]
  },
  {
   "cell_type": "code",
   "execution_count": 127,
   "metadata": {},
   "outputs": [],
   "source": [
    "placename = mall_location[['PlaceName']].values.tolist()"
   ]
  },
  {
   "cell_type": "code",
   "execution_count": 128,
   "metadata": {},
   "outputs": [
    {
     "data": {
      "text/plain": [
       "[['MGF Metropolitan Mall'],\n",
       " ['DT City Center Mall'],\n",
       " ['City Center Shopping Mall'],\n",
       " ['MGF Mega Mall'],\n",
       " ['Sahara Mall']]"
      ]
     },
     "execution_count": 128,
     "metadata": {},
     "output_type": "execute_result"
    }
   ],
   "source": [
    "placename"
   ]
  },
  {
   "cell_type": "code",
   "execution_count": 129,
   "metadata": {},
   "outputs": [],
   "source": [
    "no_locations=len(cordinates)"
   ]
  },
  {
   "cell_type": "code",
   "execution_count": 130,
   "metadata": {},
   "outputs": [],
   "source": [
    "for i in range(0,no_locations): \n",
    "    folium.Marker(location= cordinates[i],\n",
    "                  popup = placename[i],\n",
    "                  icon=folium.Icon(color='darkblue', icon='tint', icon_color='red' )\n",
    "                 ).add_to(malls)"
   ]
  },
  {
   "cell_type": "code",
   "execution_count": 131,
   "metadata": {},
   "outputs": [
    {
     "data": {
      "text/html": [
       "<div style=\"width:100%;\"><div style=\"position:relative;width:100%;height:0;padding-bottom:60%;\"><iframe src=\"about:blank\" style=\"position:absolute;width:100%;height:100%;left:0;top:0;border:none !important;\" data-html=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 onload=\"this.contentDocument.open();this.contentDocument.write(atob(this.getAttribute('data-html')));this.contentDocument.close();\" allowfullscreen webkitallowfullscreen mozallowfullscreen></iframe></div></div>"
      ],
      "text/plain": [
       "<folium.folium.Map at 0x1c8461c41c8>"
      ]
     },
     "execution_count": 131,
     "metadata": {},
     "output_type": "execute_result"
    }
   ],
   "source": [
    "malls"
   ]
  },
  {
   "cell_type": "markdown",
   "metadata": {},
   "source": []
  }
 ],
 "metadata": {
  "kernelspec": {
   "display_name": "Python 3",
   "language": "python",
   "name": "python3"
  },
  "language_info": {
   "codemirror_mode": {
    "name": "ipython",
    "version": 3
   },
   "file_extension": ".py",
   "mimetype": "text/x-python",
   "name": "python",
   "nbconvert_exporter": "python",
   "pygments_lexer": "ipython3",
   "version": "3.7.4"
  }
 },
 "nbformat": 4,
 "nbformat_minor": 2
}
