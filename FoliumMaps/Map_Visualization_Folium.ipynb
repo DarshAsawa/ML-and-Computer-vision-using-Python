{
 "cells": [
  {
   "cell_type": "code",
   "execution_count": 74,
   "metadata": {},
   "outputs": [],
   "source": [
    "import folium "
   ]
  },
  {
   "cell_type": "code",
   "execution_count": 75,
   "metadata": {},
   "outputs": [],
   "source": [
    "mall = folium.Map(location=[28.4809085,77.0780911],zoom_start = 15,tiles = \"Stamen Toner\")"
   ]
  },
  {
   "cell_type": "code",
   "execution_count": 76,
   "metadata": {},
   "outputs": [
    {
     "data": {
      "text/plain": [
       "<folium.map.Marker at 0x1c84617a2c8>"
      ]
     },
     "execution_count": 76,
     "metadata": {},
     "output_type": "execute_result"
    }
   ],
   "source": [
    "folium.Marker(location= [28.4809085,77.0780911],popup = \"MGF Mall, Gurgaon\").add_to(mall)"
   ]
  },
  {
   "cell_type": "code",
   "execution_count": 77,
   "metadata": {},
   "outputs": [
    {
     "data": {
      "text/html": [
       "<div style=\"width:100%;\"><div style=\"position:relative;width:100%;height:0;padding-bottom:60%;\"><iframe src=\"about:blank\" style=\"position:absolute;width:100%;height:100%;left:0;top:0;border:none !important;\" data-html=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 onload=\"this.contentDocument.open();this.contentDocument.write(atob(this.getAttribute('data-html')));this.contentDocument.close();\" allowfullscreen webkitallowfullscreen mozallowfullscreen></iframe></div></div>"
      ],
      "text/plain": [
       "<folium.folium.Map at 0x1c846188d08>"
      ]
     },
     "execution_count": 77,
     "metadata": {},
     "output_type": "execute_result"
    }
   ],
   "source": [
    "mall"
   ]
  },
  {
   "cell_type": "code",
   "execution_count": 78,
   "metadata": {},
   "outputs": [],
   "source": [
    "#using data from csv to mark various malls over MGF Road,Gurgaon... "
   ]
  },
  {
   "cell_type": "code",
   "execution_count": 79,
   "metadata": {},
   "outputs": [],
   "source": [
    "import pandas as pd\n",
    "import folium"
   ]
  },
  {
   "cell_type": "code",
   "execution_count": 80,
   "metadata": {},
   "outputs": [],
   "source": [
    "malls = folium.Map(location=[28.4809085,77.0780911],zoom_start = 15,tiles = \"Stamen Toner\")"
   ]
  },
  {
   "cell_type": "code",
   "execution_count": 81,
   "metadata": {},
   "outputs": [],
   "source": [
    "mall_location = pd.read_excel('Coordinates.xlsx')"
   ]
  },
  {
   "cell_type": "code",
   "execution_count": 82,
   "metadata": {},
   "outputs": [
    {
     "data": {
      "text/html": [
       "<div>\n",
       "<style scoped>\n",
       "    .dataframe tbody tr th:only-of-type {\n",
       "        vertical-align: middle;\n",
       "    }\n",
       "\n",
       "    .dataframe tbody tr th {\n",
       "        vertical-align: top;\n",
       "    }\n",
       "\n",
       "    .dataframe thead th {\n",
       "        text-align: right;\n",
       "    }\n",
       "</style>\n",
       "<table border=\"1\" class=\"dataframe\">\n",
       "  <thead>\n",
       "    <tr style=\"text-align: right;\">\n",
       "      <th></th>\n",
       "      <th>PlaceName</th>\n",
       "      <th>Longitude</th>\n",
       "      <th>Latitude</th>\n",
       "    </tr>\n",
       "  </thead>\n",
       "  <tbody>\n",
       "    <tr>\n",
       "      <td>0</td>\n",
       "      <td>MGF Metropolitan Mall</td>\n",
       "      <td>28.480909</td>\n",
       "      <td>77.078091</td>\n",
       "    </tr>\n",
       "    <tr>\n",
       "      <td>1</td>\n",
       "      <td>DT City Center Mall</td>\n",
       "      <td>28.487141</td>\n",
       "      <td>77.090246</td>\n",
       "    </tr>\n",
       "    <tr>\n",
       "      <td>2</td>\n",
       "      <td>City Center Shopping Mall</td>\n",
       "      <td>28.478974</td>\n",
       "      <td>77.078438</td>\n",
       "    </tr>\n",
       "    <tr>\n",
       "      <td>3</td>\n",
       "      <td>MGF Mega Mall</td>\n",
       "      <td>28.479720</td>\n",
       "      <td>77.087174</td>\n",
       "    </tr>\n",
       "    <tr>\n",
       "      <td>4</td>\n",
       "      <td>Sahara Mall</td>\n",
       "      <td>28.479559</td>\n",
       "      <td>77.084566</td>\n",
       "    </tr>\n",
       "  </tbody>\n",
       "</table>\n",
       "</div>"
      ],
      "text/plain": [
       "                   PlaceName  Longitude   Latitude\n",
       "0      MGF Metropolitan Mall  28.480909  77.078091\n",
       "1        DT City Center Mall  28.487141  77.090246\n",
       "2  City Center Shopping Mall  28.478974  77.078438\n",
       "3              MGF Mega Mall  28.479720  77.087174\n",
       "4                Sahara Mall  28.479559  77.084566"
      ]
     },
     "execution_count": 82,
     "metadata": {},
     "output_type": "execute_result"
    }
   ],
   "source": [
    "mall_location"
   ]
  },
  {
   "cell_type": "code",
   "execution_count": 83,
   "metadata": {},
   "outputs": [],
   "source": [
    "cordinates = mall_location[['Longitude','Latitude']].values.tolist()\n"
   ]
  },
  {
   "cell_type": "code",
   "execution_count": 84,
   "metadata": {},
   "outputs": [
    {
     "data": {
      "text/plain": [
       "[[28.4809085, 77.0780911],\n",
       " [28.4871408, 77.0902456],\n",
       " [28.4789745, 77.0784375],\n",
       " [28.4797196, 77.0871736],\n",
       " [28.4795587, 77.0845658]]"
      ]
     },
     "execution_count": 84,
     "metadata": {},
     "output_type": "execute_result"
    }
   ],
   "source": [
    "cordinates"
   ]
  },
  {
   "cell_type": "code",
   "execution_count": 85,
   "metadata": {},
   "outputs": [
    {
     "data": {
      "text/plain": [
       "Index(['PlaceName', 'Longitude', 'Latitude'], dtype='object')"
      ]
     },
     "execution_count": 85,
     "metadata": {},
     "output_type": "execute_result"
    }
   ],
   "source": [
    "mall_location.columns"
   ]
  },
  {
   "cell_type": "code",
   "execution_count": 86,
   "metadata": {},
   "outputs": [],
   "source": [
    "placename = mall_location[['PlaceName']].values.tolist()"
   ]
  },
  {
   "cell_type": "code",
   "execution_count": 87,
   "metadata": {},
   "outputs": [
    {
     "data": {
      "text/plain": [
       "[['MGF Metropolitan Mall'],\n",
       " ['DT City Center Mall'],\n",
       " ['City Center Shopping Mall'],\n",
       " ['MGF Mega Mall'],\n",
       " ['Sahara Mall']]"
      ]
     },
     "execution_count": 87,
     "metadata": {},
     "output_type": "execute_result"
    }
   ],
   "source": [
    "placename"
   ]
  },
  {
   "cell_type": "code",
   "execution_count": 88,
   "metadata": {},
   "outputs": [],
   "source": [
    "no_locations=len(cordinates)"
   ]
  },
  {
   "cell_type": "code",
   "execution_count": 89,
   "metadata": {},
   "outputs": [],
   "source": [
    "for i in range(0,no_locations): \n",
    "    folium.Marker(location= cordinates[i],popup = placename[i]).add_to(malls)"
   ]
  },
  {
   "cell_type": "code",
   "execution_count": 90,
   "metadata": {},
   "outputs": [
    {
     "data": {
      "text/html": [
       "<div style=\"width:100%;\"><div style=\"position:relative;width:100%;height:0;padding-bottom:60%;\"><iframe src=\"about:blank\" style=\"position:absolute;width:100%;height:100%;left:0;top:0;border:none !important;\" data-html=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 onload=\"this.contentDocument.open();this.contentDocument.write(atob(this.getAttribute('data-html')));this.contentDocument.close();\" allowfullscreen webkitallowfullscreen mozallowfullscreen></iframe></div></div>"
      ],
      "text/plain": [
       "<folium.folium.Map at 0x1c84618c708>"
      ]
     },
     "execution_count": 90,
     "metadata": {},
     "output_type": "execute_result"
    }
   ],
   "source": [
    "malls"
   ]
  },
  {
   "cell_type": "markdown",
   "metadata": {},
   "source": []
  }
 ],
 "metadata": {
  "kernelspec": {
   "display_name": "Python 3",
   "language": "python",
   "name": "python3"
  },
  "language_info": {
   "codemirror_mode": {
    "name": "ipython",
    "version": 3
   },
   "file_extension": ".py",
   "mimetype": "text/x-python",
   "name": "python",
   "nbconvert_exporter": "python",
   "pygments_lexer": "ipython3",
   "version": "3.7.4"
  }
 },
 "nbformat": 4,
 "nbformat_minor": 2
}
