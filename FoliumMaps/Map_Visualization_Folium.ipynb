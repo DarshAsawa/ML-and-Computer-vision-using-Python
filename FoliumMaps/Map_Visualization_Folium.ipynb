{
 "cells": [
  {
   "cell_type": "code",
   "execution_count": 91,
   "metadata": {},
   "outputs": [],
   "source": [
    "import folium "
   ]
  },
  {
   "cell_type": "code",
   "execution_count": 92,
   "metadata": {},
   "outputs": [],
   "source": [
    "mall = folium.Map(location=[28.4809085,77.0780911],zoom_start = 15,tiles = \"Stamen Toner\")"
   ]
  },
  {
   "cell_type": "code",
   "execution_count": 93,
   "metadata": {},
   "outputs": [
    {
     "data": {
      "text/plain": [
       "<folium.map.Marker at 0x1c8461e15c8>"
      ]
     },
     "execution_count": 93,
     "metadata": {},
     "output_type": "execute_result"
    }
   ],
   "source": [
    "folium.Marker(location= [28.4809085,77.0780911],popup = \"MGF Mall, Gurgaon\").add_to(mall)"
   ]
  },
  {
   "cell_type": "code",
   "execution_count": 94,
   "metadata": {},
   "outputs": [
    {
     "data": {
      "text/html": [
       "<div style=\"width:100%;\"><div style=\"position:relative;width:100%;height:0;padding-bottom:60%;\"><iframe src=\"about:blank\" style=\"position:absolute;width:100%;height:100%;left:0;top:0;border:none !important;\" data-html=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 onload=\"this.contentDocument.open();this.contentDocument.write(atob(this.getAttribute('data-html')));this.contentDocument.close();\" allowfullscreen webkitallowfullscreen mozallowfullscreen></iframe></div></div>"
      ],
      "text/plain": [
       "<folium.folium.Map at 0x1c8461d1a08>"
      ]
     },
     "execution_count": 94,
     "metadata": {},
     "output_type": "execute_result"
    }
   ],
   "source": [
    "mall"
   ]
  },
  {
   "cell_type": "code",
   "execution_count": 95,
   "metadata": {},
   "outputs": [],
   "source": [
    "#using data from csv to mark various malls over MGF Road,Gurgaon... "
   ]
  },
  {
   "cell_type": "code",
   "execution_count": 108,
   "metadata": {},
   "outputs": [],
   "source": [
    "import pandas as pd\n",
    "import folium"
   ]
  },
  {
   "cell_type": "code",
   "execution_count": 109,
   "metadata": {},
   "outputs": [],
   "source": [
    "malls = folium.Map(location=[28.4809085,77.0780911],zoom_start = 14,tiles = \"Stamen Toner\")"
   ]
  },
  {
   "cell_type": "code",
   "execution_count": 110,
   "metadata": {},
   "outputs": [],
   "source": [
    "mall_location = pd.read_excel('Coordinates.xlsx')"
   ]
  },
  {
   "cell_type": "code",
   "execution_count": 111,
   "metadata": {},
   "outputs": [
    {
     "data": {
      "text/html": [
       "<div>\n",
       "<style scoped>\n",
       "    .dataframe tbody tr th:only-of-type {\n",
       "        vertical-align: middle;\n",
       "    }\n",
       "\n",
       "    .dataframe tbody tr th {\n",
       "        vertical-align: top;\n",
       "    }\n",
       "\n",
       "    .dataframe thead th {\n",
       "        text-align: right;\n",
       "    }\n",
       "</style>\n",
       "<table border=\"1\" class=\"dataframe\">\n",
       "  <thead>\n",
       "    <tr style=\"text-align: right;\">\n",
       "      <th></th>\n",
       "      <th>PlaceName</th>\n",
       "      <th>Longitude</th>\n",
       "      <th>Latitude</th>\n",
       "    </tr>\n",
       "  </thead>\n",
       "  <tbody>\n",
       "    <tr>\n",
       "      <td>0</td>\n",
       "      <td>MGF Metropolitan Mall</td>\n",
       "      <td>28.480909</td>\n",
       "      <td>77.078091</td>\n",
       "    </tr>\n",
       "    <tr>\n",
       "      <td>1</td>\n",
       "      <td>DT City Center Mall</td>\n",
       "      <td>28.487141</td>\n",
       "      <td>77.090246</td>\n",
       "    </tr>\n",
       "    <tr>\n",
       "      <td>2</td>\n",
       "      <td>City Center Shopping Mall</td>\n",
       "      <td>28.478974</td>\n",
       "      <td>77.078438</td>\n",
       "    </tr>\n",
       "    <tr>\n",
       "      <td>3</td>\n",
       "      <td>MGF Mega Mall</td>\n",
       "      <td>28.479720</td>\n",
       "      <td>77.087174</td>\n",
       "    </tr>\n",
       "    <tr>\n",
       "      <td>4</td>\n",
       "      <td>Sahara Mall</td>\n",
       "      <td>28.479559</td>\n",
       "      <td>77.084566</td>\n",
       "    </tr>\n",
       "  </tbody>\n",
       "</table>\n",
       "</div>"
      ],
      "text/plain": [
       "                   PlaceName  Longitude   Latitude\n",
       "0      MGF Metropolitan Mall  28.480909  77.078091\n",
       "1        DT City Center Mall  28.487141  77.090246\n",
       "2  City Center Shopping Mall  28.478974  77.078438\n",
       "3              MGF Mega Mall  28.479720  77.087174\n",
       "4                Sahara Mall  28.479559  77.084566"
      ]
     },
     "execution_count": 111,
     "metadata": {},
     "output_type": "execute_result"
    }
   ],
   "source": [
    "mall_location"
   ]
  },
  {
   "cell_type": "code",
   "execution_count": 112,
   "metadata": {},
   "outputs": [],
   "source": [
    "cordinates = mall_location[['Longitude','Latitude']].values.tolist()\n"
   ]
  },
  {
   "cell_type": "code",
   "execution_count": 113,
   "metadata": {},
   "outputs": [
    {
     "data": {
      "text/plain": [
       "[[28.4809085, 77.0780911],\n",
       " [28.4871408, 77.0902456],\n",
       " [28.4789745, 77.0784375],\n",
       " [28.4797196, 77.0871736],\n",
       " [28.4795587, 77.0845658]]"
      ]
     },
     "execution_count": 113,
     "metadata": {},
     "output_type": "execute_result"
    }
   ],
   "source": [
    "cordinates"
   ]
  },
  {
   "cell_type": "code",
   "execution_count": 114,
   "metadata": {},
   "outputs": [
    {
     "data": {
      "text/plain": [
       "Index(['PlaceName', 'Longitude', 'Latitude'], dtype='object')"
      ]
     },
     "execution_count": 114,
     "metadata": {},
     "output_type": "execute_result"
    }
   ],
   "source": [
    "mall_location.columns"
   ]
  },
  {
   "cell_type": "code",
   "execution_count": 115,
   "metadata": {},
   "outputs": [],
   "source": [
    "placename = mall_location[['PlaceName']].values.tolist()"
   ]
  },
  {
   "cell_type": "code",
   "execution_count": 116,
   "metadata": {},
   "outputs": [
    {
     "data": {
      "text/plain": [
       "[['MGF Metropolitan Mall'],\n",
       " ['DT City Center Mall'],\n",
       " ['City Center Shopping Mall'],\n",
       " ['MGF Mega Mall'],\n",
       " ['Sahara Mall']]"
      ]
     },
     "execution_count": 116,
     "metadata": {},
     "output_type": "execute_result"
    }
   ],
   "source": [
    "placename"
   ]
  },
  {
   "cell_type": "code",
   "execution_count": 117,
   "metadata": {},
   "outputs": [],
   "source": [
    "no_locations=len(cordinates)"
   ]
  },
  {
   "cell_type": "code",
   "execution_count": 118,
   "metadata": {},
   "outputs": [],
   "source": [
    "for i in range(0,no_locations): \n",
    "    folium.Marker(location= cordinates[i],popup = placename[i]).add_to(malls)"
   ]
  },
  {
   "cell_type": "code",
   "execution_count": 119,
   "metadata": {},
   "outputs": [
    {
     "data": {
      "text/html": [
       "<div style=\"width:100%;\"><div style=\"position:relative;width:100%;height:0;padding-bottom:60%;\"><iframe src=\"about:blank\" style=\"position:absolute;width:100%;height:100%;left:0;top:0;border:none !important;\" data-html=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 onload=\"this.contentDocument.open();this.contentDocument.write(atob(this.getAttribute('data-html')));this.contentDocument.close();\" allowfullscreen webkitallowfullscreen mozallowfullscreen></iframe></div></div>"
      ],
      "text/plain": [
       "<folium.folium.Map at 0x1c8461f3648>"
      ]
     },
     "execution_count": 119,
     "metadata": {},
     "output_type": "execute_result"
    }
   ],
   "source": [
    "malls"
   ]
  },
  {
   "cell_type": "markdown",
   "metadata": {},
   "source": []
  }
 ],
 "metadata": {
  "kernelspec": {
   "display_name": "Python 3",
   "language": "python",
   "name": "python3"
  },
  "language_info": {
   "codemirror_mode": {
    "name": "ipython",
    "version": 3
   },
   "file_extension": ".py",
   "mimetype": "text/x-python",
   "name": "python",
   "nbconvert_exporter": "python",
   "pygments_lexer": "ipython3",
   "version": "3.7.4"
  }
 },
 "nbformat": 4,
 "nbformat_minor": 2
}
