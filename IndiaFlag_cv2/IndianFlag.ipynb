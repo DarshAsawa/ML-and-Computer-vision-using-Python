{
 "cells": [
  {
   "cell_type": "code",
   "execution_count": 9,
   "metadata": {},
   "outputs": [],
   "source": [
    "import cv2\n",
    "import numpy as np\n",
    "import math "
   ]
  },
  {
   "cell_type": "code",
   "execution_count": 10,
   "metadata": {},
   "outputs": [],
   "source": [
    "flag = np.zeros(shape=[600,600,3],dtype='uint8')"
   ]
  },
  {
   "cell_type": "code",
   "execution_count": 17,
   "metadata": {},
   "outputs": [],
   "source": [
    "flag[:,:]=(255,255,255)\n",
    "flag[10:200,10:590]=(48, 196, 244)\n",
    "flag[200:400,10:590]=(255,255,255)\n",
    "flag[400:590,10:590]=(0,255,0)\n",
    "cv2.circle(flag,(300,300),99,[255,0,0],2)\n",
    "cv2.circle(flag,(300,300),1,[255,0,0],2)\n",
    "\n",
    "degree = int(2*math.pi)\n",
    "for t in range(0,degree,2):\n",
    "    cos = math.cos(t)\n",
    "    sin = math.sin(t)\n",
    "    x = int(100*cos+300)\n",
    "    y = int(100*sin+300)\n",
    "    cv2.line(flag,(x,y),(600-x,600-y),[255,0,0],2)\n",
    "\n"
   ]
  },
  {
   "cell_type": "code",
   "execution_count": 18,
   "metadata": {},
   "outputs": [
    {
     "data": {
      "text/plain": [
       "True"
      ]
     },
     "execution_count": 18,
     "metadata": {},
     "output_type": "execute_result"
    }
   ],
   "source": [
    "cv2.imshow('INDIAN FLAG',flag)\n",
    "cv2.waitKey()\n",
    "cv2.destroyAllWindows()\n",
    "cv2.imwrite(\"IndianFlag.jpg\",flag)"
   ]
  },
  {
   "cell_type": "code",
   "execution_count": 19,
   "metadata": {},
   "outputs": [],
   "source": [
    "#SCENRY CONSISTING INDIAN FLAG "
   ]
  },
  {
   "cell_type": "code",
   "execution_count": 20,
   "metadata": {},
   "outputs": [],
   "source": [
    "flag = np.zeros(shape=[600,800,3],dtype='uint8')"
   ]
  },
  {
   "cell_type": "code",
   "execution_count": 25,
   "metadata": {},
   "outputs": [
    {
     "data": {
      "text/plain": [
       "array([[[253, 251, 244],\n",
       "        [253, 251, 244],\n",
       "        [253, 251, 244],\n",
       "        ...,\n",
       "        [253, 251, 244],\n",
       "        [253, 251, 244],\n",
       "        [253, 251, 244]],\n",
       "\n",
       "       [[253, 251, 244],\n",
       "        [253, 251, 244],\n",
       "        [253, 251, 244],\n",
       "        ...,\n",
       "        [253, 251, 244],\n",
       "        [253, 251, 244],\n",
       "        [253, 251, 244]],\n",
       "\n",
       "       [[253, 251, 244],\n",
       "        [253, 251, 244],\n",
       "        [253, 251, 244],\n",
       "        ...,\n",
       "        [253, 251, 244],\n",
       "        [253, 251, 244],\n",
       "        [253, 251, 244]],\n",
       "\n",
       "       ...,\n",
       "\n",
       "       [[  0, 152,  20],\n",
       "        [  0, 152,  20],\n",
       "        [  0, 152,  20],\n",
       "        ...,\n",
       "        [  0, 152,  20],\n",
       "        [  0, 152,  20],\n",
       "        [  0, 152,  20]],\n",
       "\n",
       "       [[  0, 152,  20],\n",
       "        [  0, 152,  20],\n",
       "        [  0, 152,  20],\n",
       "        ...,\n",
       "        [  0, 152,  20],\n",
       "        [  0, 152,  20],\n",
       "        [  0, 152,  20]],\n",
       "\n",
       "       [[  0, 152,  20],\n",
       "        [  0, 152,  20],\n",
       "        [  0, 152,  20],\n",
       "        ...,\n",
       "        [  0, 152,  20],\n",
       "        [  0, 152,  20],\n",
       "        [  0, 152,  20]]], dtype=uint8)"
      ]
     },
     "execution_count": 25,
     "metadata": {},
     "output_type": "execute_result"
    }
   ],
   "source": [
    "#Blue sky \n",
    "flag[:,:]=(253, 251, 244)\n",
    "\n",
    "#Green Ground\n",
    "flag[500:600]=(0, 152, 20)\n",
    "\n",
    "#Flag dimensions and color \n",
    "flag[50:100,200:400]=(48, 196, 244) # saffron \n",
    "flag[100:150,200:400]=(255,255,255) #white \n",
    "flag[150:200,200:400]=(0,255,0) #Green\n",
    "cv2.circle(flag,(300,125),25,[255,0,0],1) #Asholha Chakra\n",
    "cv2.circle(flag,(300,125),1,[255,0,0],1)\n",
    "\n",
    "cv2.line(flag,(195,30),(195,550),(0,0,0),6) #Black pole\n"
   ]
  },
  {
   "cell_type": "code",
   "execution_count": 26,
   "metadata": {},
   "outputs": [],
   "source": [
    "cv2.imshow('image',flag)\n",
    "cv2.waitKey()\n",
    "cv2.destroyAllWindows()"
   ]
  },
  {
   "cell_type": "code",
   "execution_count": null,
   "metadata": {},
   "outputs": [],
   "source": []
  }
 ],
 "metadata": {
  "kernelspec": {
   "display_name": "Python 3",
   "language": "python",
   "name": "python3"
  },
  "language_info": {
   "codemirror_mode": {
    "name": "ipython",
    "version": 3
   },
   "file_extension": ".py",
   "mimetype": "text/x-python",
   "name": "python",
   "nbconvert_exporter": "python",
   "pygments_lexer": "ipython3",
   "version": "3.7.4"
  }
 },
 "nbformat": 4,
 "nbformat_minor": 2
}
