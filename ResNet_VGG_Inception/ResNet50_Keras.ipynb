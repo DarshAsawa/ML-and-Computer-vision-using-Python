{
 "cells": [
  {
   "cell_type": "code",
   "execution_count": 1,
   "metadata": {},
   "outputs": [
    {
     "name": "stderr",
     "output_type": "stream",
     "text": [
      "Using TensorFlow backend.\n"
     ]
    }
   ],
   "source": [
    "from keras.preprocessing import image"
   ]
  },
  {
   "cell_type": "code",
   "execution_count": 2,
   "metadata": {},
   "outputs": [],
   "source": [
    "from keras.applications import resnet50"
   ]
  },
  {
   "cell_type": "code",
   "execution_count": 3,
   "metadata": {},
   "outputs": [],
   "source": [
    "#using imagenet dataset. \n",
    "model = resnet50.ResNet50(weights='imagenet')"
   ]
  },
  {
   "cell_type": "code",
   "execution_count": 4,
   "metadata": {},
   "outputs": [
    {
     "data": {
      "text/plain": [
       "<tf.Tensor 'input_1:0' shape=(None, 224, 224, 3) dtype=float32>"
      ]
     },
     "execution_count": 4,
     "metadata": {},
     "output_type": "execute_result"
    }
   ],
   "source": [
    "model.layers[0].input"
   ]
  },
  {
   "cell_type": "code",
   "execution_count": 5,
   "metadata": {},
   "outputs": [],
   "source": [
    "import numpy as np "
   ]
  },
  {
   "cell_type": "code",
   "execution_count": 6,
   "metadata": {},
   "outputs": [],
   "source": [
    "from keras.applications.resnet50 import decode_predictions"
   ]
  },
  {
   "cell_type": "code",
   "execution_count": 7,
   "metadata": {},
   "outputs": [],
   "source": [
    "from keras.applications.resnet50 import preprocess_input"
   ]
  },
  {
   "cell_type": "code",
   "execution_count": 8,
   "metadata": {},
   "outputs": [],
   "source": [
    "#predicting multiple images"
   ]
  },
  {
   "cell_type": "code",
   "execution_count": 9,
   "metadata": {},
   "outputs": [
    {
     "name": "stdout",
     "output_type": "stream",
     "text": [
      "name:  .ipynb_checkpoints\n",
      "ext:   \n",
      "\n",
      "name:  gs\n",
      "ext:  .jpg \n",
      "\n",
      "name:  labrador\n",
      "ext:  .jpg \n",
      "\n",
      "name:  mithu\n",
      "ext:  .jpg \n",
      "\n",
      "name:  pug\n",
      "ext:  .jpg \n",
      "\n",
      "name:  Untitled\n",
      "ext:  .ipynb \n",
      "\n",
      "name:  VGG16_VGG19_Keras_Pillow\n",
      "ext:  .ipynb \n",
      "\n"
     ]
    }
   ],
   "source": [
    "import os\n",
    "folder_path='C://Users//dasaw//Documents//mlops_ws//PythonNotebooks//CNN'\n",
    "images = []\n",
    "for file in os.listdir(folder_path):\n",
    "    name,ext = os.path.splitext(file)\n",
    "    print(\"name: \",name)\n",
    "    print(\"ext: \",ext,\"\\n\")\n",
    "    if (ext == '.jpg'):\n",
    "        img = os.path.join(folder_path, file)\n",
    "        img = image.load_img(img, target_size=(224,224))\n",
    "        img = image.img_to_array(img)\n",
    "        img = np.expand_dims(img, axis=0)\n",
    "        final_img = preprocess_input(img)\n",
    "        images.append(final_img)"
   ]
  },
  {
   "cell_type": "code",
   "execution_count": 10,
   "metadata": {},
   "outputs": [],
   "source": [
    "# image list needs to be stacked up, in order to pass it for prediction..\n",
    "images = np.vstack(images)"
   ]
  },
  {
   "cell_type": "code",
   "execution_count": 11,
   "metadata": {},
   "outputs": [],
   "source": [
    "pred = model.predict(images,batch_size=5)"
   ]
  },
  {
   "cell_type": "code",
   "execution_count": 12,
   "metadata": {},
   "outputs": [
    {
     "data": {
      "text/plain": [
       "[[('n02106662', 'German_shepherd', 0.866005),\n",
       "  ('n02096051', 'Airedale', 0.119892746),\n",
       "  ('n03803284', 'muzzle', 0.006394966),\n",
       "  ('n02105162', 'malinois', 0.0044184406),\n",
       "  ('n02088466', 'bloodhound', 0.00069171685)],\n",
       " [('n02099712', 'Labrador_retriever', 0.73776287),\n",
       "  ('n02099601', 'golden_retriever', 0.19275488),\n",
       "  ('n02088466', 'bloodhound', 0.0060059456),\n",
       "  ('n03223299', 'doormat', 0.0043820566),\n",
       "  ('n02104029', 'kuvasz', 0.00414031)],\n",
       " [('n01494475', 'hammerhead', 0.2304577),\n",
       "  ('n01484850', 'great_white_shark', 0.08845795),\n",
       "  ('n04033901', 'quill', 0.06362761),\n",
       "  ('n02006656', 'spoonbill', 0.060736187),\n",
       "  ('n03958227', 'plastic_bag', 0.054805774)],\n",
       " [('n02110958', 'pug', 0.6064202),\n",
       "  ('n02108422', 'bull_mastiff', 0.38092318),\n",
       "  ('n04409515', 'tennis_ball', 0.0015413382),\n",
       "  ('n02112706', 'Brabancon_griffon', 0.00095420156),\n",
       "  ('n02087394', 'Rhodesian_ridgeback', 0.00093617674)]]"
      ]
     },
     "execution_count": 12,
     "metadata": {},
     "output_type": "execute_result"
    }
   ],
   "source": [
    "decode_predictions(pred)"
   ]
  },
  {
   "cell_type": "code",
   "execution_count": null,
   "metadata": {},
   "outputs": [],
   "source": []
  }
 ],
 "metadata": {
  "kernelspec": {
   "display_name": "Python 3",
   "language": "python",
   "name": "python3"
  },
  "language_info": {
   "codemirror_mode": {
    "name": "ipython",
    "version": 3
   },
   "file_extension": ".py",
   "mimetype": "text/x-python",
   "name": "python",
   "nbconvert_exporter": "python",
   "pygments_lexer": "ipython3",
   "version": "3.7.4"
  }
 },
 "nbformat": 4,
 "nbformat_minor": 2
}
